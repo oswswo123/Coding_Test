{
 "cells": [
  {
   "cell_type": "code",
   "execution_count": null,
   "id": "bec0e161-6de0-4c2b-aaca-f3d8991468c9",
   "metadata": {},
   "outputs": [],
   "source": [
    "import re\n",
    "\n",
    "def solution(new_id):\n",
    "    # 1. 대문자를 소문자로 치환\n",
    "    new_id = new_id.lower()\n",
    "    \n",
    "    # 2. 알파벳 소문자, 숫자, -, _, .를 제외한 모든 문자 제거\n",
    "    new_id = re.sub(\"[~!@#$%^&*\\(\\)=+\\[\\{\\]\\}:?,\\<\\>/]\", \"\", new_id)    \n",
    "                    \n",
    "    # 3. .가 2번 이상 연속된 부분을 하나의 마침표로 치환\n",
    "    new_id = re.sub(\"\\.{2,}\", \".\", new_id)\n",
    "    \n",
    "    # 4. .가 처음이나 끝에 위치한다면 제거\n",
    "    if new_id[0] == \".\":\n",
    "        new_id = new_id[1:]\n",
    "    \n",
    "    if new_id != \"\":\n",
    "        if new_id[-1] == \".\":\n",
    "            new_id = new_id[:-1]\n",
    "\n",
    "    # 5. 빈 문자열이라면 a를 대입\n",
    "    if new_id == \"\":\n",
    "        new_id = \"a\"\n",
    "    \n",
    "    # 6. 길이가 16자 이상이라면 앞에서 15개 제외한 나머지 문자 모두 제거.\n",
    "    #    만약 제거 후 .이 마지막이라면 끝에 위치한 . 문자도 제거\n",
    "    if len(new_id) > 15:\n",
    "        new_id = new_id[:15]\n",
    "    \n",
    "    if new_id[-1] == \".\":\n",
    "        new_id = new_id[:-1]\n",
    "    \n",
    "    # 7. 길이가 2자 이하라면 길이가 3이 될때까지 마지막 문자 반복\n",
    "    while (len(new_id) < 3):\n",
    "        new_id += new_id[-1]\n",
    "        \n",
    "    answer = new_id\n",
    "    return answer"
   ]
  }
 ],
 "metadata": {
  "kernelspec": {
   "display_name": "Python 3 (ipykernel)",
   "language": "python",
   "name": "python3"
  },
  "language_info": {
   "codemirror_mode": {
    "name": "ipython",
    "version": 3
   },
   "file_extension": ".py",
   "mimetype": "text/x-python",
   "name": "python",
   "nbconvert_exporter": "python",
   "pygments_lexer": "ipython3",
   "version": "3.7.13"
  }
 },
 "nbformat": 4,
 "nbformat_minor": 5
}
