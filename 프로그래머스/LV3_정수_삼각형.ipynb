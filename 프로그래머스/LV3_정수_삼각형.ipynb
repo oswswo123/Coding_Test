{
 "cells": [
  {
   "cell_type": "code",
   "execution_count": null,
   "id": "dcafed58-6493-4a42-814b-4353c64b5056",
   "metadata": {},
   "outputs": [],
   "source": [
    "def solution(triangle):\n",
    "    leaf = triangle[-1]\n",
    "    \n",
    "    dp = [[0 for _ in leaf] for _ in leaf]\n",
    "    for row, point in enumerate(triangle):\n",
    "        for col, point in enumerate(point):\n",
    "            if row == 0:\n",
    "                dp[row][col] = triangle[0][0]\n",
    "            elif col == 0:\n",
    "                dp[row][col] = dp[row-1][col] + triangle[row][col]\n",
    "            else:\n",
    "                dp[row][col] = max(dp[row-1][col-1] + triangle[row][col], dp[row-1][col] + triangle[row][col])\n",
    "        \n",
    "    answer = max(dp[-1])\n",
    "    return answer"
   ]
  }
 ],
 "metadata": {
  "kernelspec": {
   "display_name": "Python 3 (ipykernel)",
   "language": "python",
   "name": "python3"
  },
  "language_info": {
   "codemirror_mode": {
    "name": "ipython",
    "version": 3
   },
   "file_extension": ".py",
   "mimetype": "text/x-python",
   "name": "python",
   "nbconvert_exporter": "python",
   "pygments_lexer": "ipython3",
   "version": "3.7.13"
  }
 },
 "nbformat": 4,
 "nbformat_minor": 5
}
