{
 "cells": [
  {
   "cell_type": "code",
   "execution_count": null,
   "id": "93fb98b7-682e-4e0c-a2e8-ff196140d7e8",
   "metadata": {},
   "outputs": [],
   "source": [
    "import re\n",
    "\n",
    "def solution(dartResult):\n",
    "    point_dict = {repet+1:[0, \"\", \"\"] for repet in range(3)}\n",
    "    for key, value in point_dict.items():\n",
    "        num_pos = re.search(\"[0-9]{1,}\", dartResult).span()\n",
    "        point_dict[key][0] = int(dartResult[num_pos[0]:num_pos[1]])\n",
    "        dartResult = dartResult[num_pos[1]:]\n",
    "        point_dict[key][1] += dartResult[0]\n",
    "        if len(dartResult) >= 2:\n",
    "            if dartResult[1] == \"*\" or dartResult[1] == \"#\":\n",
    "                point_dict[key][2] += dartResult[1]\n",
    "        \n",
    "    for key in point_dict:\n",
    "        if point_dict[key][1] == \"D\":\n",
    "            point_dict[key][0] **= 2\n",
    "        elif point_dict[key][1] == \"T\":\n",
    "            point_dict[key][0] **= 3\n",
    "        \n",
    "        if point_dict[key][2] == \"*\":\n",
    "            point_dict[key][0] *= 2\n",
    "            if key >= 2:\n",
    "                point_dict[key-1][0] *= 2\n",
    "        elif point_dict[key][2] == \"#\":\n",
    "            point_dict[key][0] *= -1\n",
    "    point_list = [point_dict[key][0] for key in point_dict]\n",
    "    \n",
    "    answer = 0\n",
    "    for point in point_list:\n",
    "        answer += point\n",
    "        \n",
    "    return answer"
   ]
  }
 ],
 "metadata": {
  "kernelspec": {
   "display_name": "Python 3 (ipykernel)",
   "language": "python",
   "name": "python3"
  },
  "language_info": {
   "codemirror_mode": {
    "name": "ipython",
    "version": 3
   },
   "file_extension": ".py",
   "mimetype": "text/x-python",
   "name": "python",
   "nbconvert_exporter": "python",
   "pygments_lexer": "ipython3",
   "version": "3.7.13"
  }
 },
 "nbformat": 4,
 "nbformat_minor": 5
}
