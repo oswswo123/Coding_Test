{
 "cells": [
  {
   "cell_type": "code",
   "execution_count": null,
   "id": "1f5645ff-67aa-47de-8cc9-faca7ed80877",
   "metadata": {},
   "outputs": [],
   "source": [
    "import re\n",
    "\n",
    "def solution(s):\n",
    "    min_length = len(s)\n",
    "    \n",
    "    for length in range(1, len(s)//2+1):\n",
    "        slice_str_list = list()\n",
    "        for idx in range(0, len(s), length):\n",
    "            slice_str_list.append(s[idx:idx+length])\n",
    "        \n",
    "        repeat = 1\n",
    "        is_repeat = False\n",
    "        zip_str = \"\"\n",
    "        for idx in range(len(slice_str_list)-1):\n",
    "            if is_repeat == False:\n",
    "                repeat = 1\n",
    "                \n",
    "            if slice_str_list[idx] == slice_str_list[idx+1]:\n",
    "                is_repeat = True\n",
    "                repeat += 1\n",
    "            elif is_repeat == True:\n",
    "                zip_str = zip_str + str(repeat) + slice_str_list[idx]\n",
    "                is_repeat = False\n",
    "            elif is_repeat == False:                \n",
    "                zip_str += slice_str_list[idx]\n",
    "\n",
    "        if is_repeat == True:\n",
    "            zip_str = zip_str + str(repeat) + slice_str_list[-1]\n",
    "        elif is_repeat == False:\n",
    "            zip_str += slice_str_list[-1]\n",
    "        \n",
    "        if len(zip_str) < min_length:\n",
    "            min_length = len(zip_str)\n",
    "\n",
    "    return min_length"
   ]
  }
 ],
 "metadata": {
  "kernelspec": {
   "display_name": "Python 3 (ipykernel)",
   "language": "python",
   "name": "python3"
  },
  "language_info": {
   "codemirror_mode": {
    "name": "ipython",
    "version": 3
   },
   "file_extension": ".py",
   "mimetype": "text/x-python",
   "name": "python",
   "nbconvert_exporter": "python",
   "pygments_lexer": "ipython3",
   "version": "3.7.13"
  }
 },
 "nbformat": 4,
 "nbformat_minor": 5
}
