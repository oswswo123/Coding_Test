{
 "cells": [
  {
   "cell_type": "code",
   "execution_count": null,
   "id": "917b5c00-d6cf-4651-9922-68e704590242",
   "metadata": {},
   "outputs": [],
   "source": [
    "def solution(id_list, reports, k):\n",
    "    report_data = {id:[list(), list(), 0]for id in id_list}\n",
    "    for report in reports:\n",
    "        prosecutor, target = report.split()\n",
    "        if target not in report_data[prosecutor][0]:\n",
    "            report_data[prosecutor][0].append(target)\n",
    "    \n",
    "    for key, values in report_data.items():\n",
    "        for target in report_data[key][0]:\n",
    "            report_data[target][2] += 1\n",
    "    \n",
    "    for key, values in report_data.items():\n",
    "        for item in values[0]:\n",
    "            if report_data[item][2] >= k:\n",
    "                report_data[key][1].append(item)\n",
    "    \n",
    "    answer = [len(values[1]) for key, values in report_data.items()]\n",
    "    return answer"
   ]
  }
 ],
 "metadata": {
  "kernelspec": {
   "display_name": "Python 3 (ipykernel)",
   "language": "python",
   "name": "python3"
  },
  "language_info": {
   "codemirror_mode": {
    "name": "ipython",
    "version": 3
   },
   "file_extension": ".py",
   "mimetype": "text/x-python",
   "name": "python",
   "nbconvert_exporter": "python",
   "pygments_lexer": "ipython3",
   "version": "3.7.13"
  }
 },
 "nbformat": 4,
 "nbformat_minor": 5
}
