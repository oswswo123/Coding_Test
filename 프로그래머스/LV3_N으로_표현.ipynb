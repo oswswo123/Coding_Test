{
 "cells": [
  {
   "cell_type": "code",
   "execution_count": null,
   "id": "780176e6-85c8-417c-b5e0-978a29504a47",
   "metadata": {},
   "outputs": [],
   "source": [
    "def solution(N, number):\n",
    "    answer = -1\n",
    "    dp = {element:set() for element in range(1, 9)}\n",
    "    \n",
    "    for key in dp.keys():\n",
    "        add_value = str(N) * key\n",
    "        dp[key].add(int(add_value))\n",
    "    \n",
    "    for idx in range(2, 9):\n",
    "        combination = [[temp, idx-temp] for temp in range(1, idx) if idx - temp > 0]\n",
    "        for first_idx, second_idx in combination:\n",
    "            first_elements = list(dp[first_idx])\n",
    "            second_elements = list(dp[second_idx])\n",
    "            for first_element in first_elements:\n",
    "                for second_element in second_elements:\n",
    "                    dp[idx].add(first_element + second_element)\n",
    "                    if first_element >= second_element:\n",
    "                        dp[idx].add(first_element - second_element)\n",
    "                    if second_element != 0:\n",
    "                        dp[idx].add(first_element // second_element)\n",
    "                    dp[idx].add(first_element * second_element)\n",
    "                    \n",
    "    for key in dp.keys():\n",
    "        if number in dp[key]:\n",
    "            answer = key\n",
    "            break\n",
    "\n",
    "    return answer"
   ]
  }
 ],
 "metadata": {
  "kernelspec": {
   "display_name": "Python 3 (ipykernel)",
   "language": "python",
   "name": "python3"
  },
  "language_info": {
   "codemirror_mode": {
    "name": "ipython",
    "version": 3
   },
   "file_extension": ".py",
   "mimetype": "text/x-python",
   "name": "python",
   "nbconvert_exporter": "python",
   "pygments_lexer": "ipython3",
   "version": "3.7.13"
  }
 },
 "nbformat": 4,
 "nbformat_minor": 5
}
