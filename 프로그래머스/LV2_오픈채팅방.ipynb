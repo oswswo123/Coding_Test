{
 "cells": [
  {
   "cell_type": "code",
   "execution_count": null,
   "id": "2c1b3022-652d-4b5f-ada3-51dc874bc6ab",
   "metadata": {},
   "outputs": [],
   "source": [
    "def solution(records):\n",
    "    user_data = dict()\n",
    "    \n",
    "    records = list(map(str.split, records))\n",
    "    command_list = [ [element[0], element[1]] for element in records ]\n",
    "    for record in records:\n",
    "        if len(record) == 3:\n",
    "            user_data[record[1]] = record[2]\n",
    "        else:\n",
    "            pass\n",
    "\n",
    "    answer = list()\n",
    "    for element in command_list:\n",
    "        if element[0] == \"Enter\":\n",
    "            answer.append(\"{}님이 들어왔습니다.\".format(user_data[element[1]]))\n",
    "        elif element[0] == \"Leave\":\n",
    "            answer.append(\"{}님이 나갔습니다.\".format(user_data[element[1]]))\n",
    "        else:\n",
    "            pass\n",
    "    \n",
    "    return answer"
   ]
  }
 ],
 "metadata": {
  "kernelspec": {
   "display_name": "Python 3 (ipykernel)",
   "language": "python",
   "name": "python3"
  },
  "language_info": {
   "codemirror_mode": {
    "name": "ipython",
    "version": 3
   },
   "file_extension": ".py",
   "mimetype": "text/x-python",
   "name": "python",
   "nbconvert_exporter": "python",
   "pygments_lexer": "ipython3",
   "version": "3.7.13"
  }
 },
 "nbformat": 4,
 "nbformat_minor": 5
}
