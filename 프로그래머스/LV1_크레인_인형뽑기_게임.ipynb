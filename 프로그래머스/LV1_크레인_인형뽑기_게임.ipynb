{
 "cells": [
  {
   "cell_type": "code",
   "execution_count": null,
   "id": "98b492c0-b60e-4aa3-b39b-51f3e9d70a86",
   "metadata": {},
   "outputs": [],
   "source": [
    "def solution(board, moves):\n",
    "    temp_stack = list()\n",
    "    answer = 0\n",
    "    \n",
    "    for move in moves:\n",
    "        pos = move - 1\n",
    "        for element in board:\n",
    "            if element[pos] != 0:\n",
    "                temp_stack.append(element[pos])\n",
    "                element[pos] = 0\n",
    "                if len(temp_stack) >= 2:\n",
    "                    if temp_stack[-1] == temp_stack[-2]:\n",
    "                        temp_stack = temp_stack[:-2]\n",
    "                        answer += 2\n",
    "                break\n",
    "\n",
    "    return answer"
   ]
  }
 ],
 "metadata": {
  "kernelspec": {
   "display_name": "Python 3 (ipykernel)",
   "language": "python",
   "name": "python3"
  },
  "language_info": {
   "codemirror_mode": {
    "name": "ipython",
    "version": 3
   },
   "file_extension": ".py",
   "mimetype": "text/x-python",
   "name": "python",
   "nbconvert_exporter": "python",
   "pygments_lexer": "ipython3",
   "version": "3.7.13"
  }
 },
 "nbformat": 4,
 "nbformat_minor": 5
}
