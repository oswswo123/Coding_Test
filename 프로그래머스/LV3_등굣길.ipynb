{
 "cells": [
  {
   "cell_type": "code",
   "execution_count": null,
   "id": "27a7f809-0f88-4ef4-87e7-188b70742c86",
   "metadata": {},
   "outputs": [],
   "source": [
    "def solution(m, n, puddles):\n",
    "    dp = [[0 for _ in range(m)] for _ in range(n)]\n",
    "    \n",
    "    for (col, row) in puddles:\n",
    "        dp[row-1][col-1] = None\n",
    "    \n",
    "    for row, row_value in enumerate(dp):\n",
    "        for col, col_value in enumerate(row_value):\n",
    "            if dp[row][col] == None:\n",
    "                continue\n",
    "            \n",
    "            if row == 0 and col == 0:\n",
    "                dp[row][col] = 1\n",
    "            elif row == 0:\n",
    "                if dp[row][col-1] != None:\n",
    "                    dp[row][col] += dp[row][col-1]\n",
    "                else:\n",
    "                    dp[row][col] = None\n",
    "            elif col == 0:\n",
    "                if dp[row-1][col] != None:\n",
    "                    dp[row][col] += dp[row-1][col]\n",
    "                else:\n",
    "                    dp[row][col] = None\n",
    "            else:\n",
    "                if dp[row][col-1] == None and dp[row-1][col] == None:\n",
    "                    dp[row][col] = None\n",
    "                elif dp[row-1][col] == None:\n",
    "                    dp[row][col] += dp[row][col-1]\n",
    "                elif dp[row][col-1] == None:\n",
    "                    dp[row][col] += dp[row-1][col]\n",
    "                else:\n",
    "                    dp[row][col] += dp[row-1][col] + dp[row][col-1]\n",
    "    \n",
    "    if dp[-1][-1] == None:\n",
    "        answer = 0\n",
    "    else:\n",
    "        answer = dp[-1][-1] % 1000000007\n",
    "    \n",
    "    return answer"
   ]
  }
 ],
 "metadata": {
  "kernelspec": {
   "display_name": "Python 3 (ipykernel)",
   "language": "python",
   "name": "python3"
  },
  "language_info": {
   "codemirror_mode": {
    "name": "ipython",
    "version": 3
   },
   "file_extension": ".py",
   "mimetype": "text/x-python",
   "name": "python",
   "nbconvert_exporter": "python",
   "pygments_lexer": "ipython3",
   "version": "3.7.13"
  }
 },
 "nbformat": 4,
 "nbformat_minor": 5
}
