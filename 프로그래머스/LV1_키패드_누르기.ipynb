{
 "cells": [
  {
   "cell_type": "code",
   "execution_count": null,
   "id": "b45cef52-bb6d-4764-9384-fc53a6edfc62",
   "metadata": {},
   "outputs": [],
   "source": [
    "def solution(numbers, hand):\n",
    "    answer = ''\n",
    "    lp = -1\n",
    "    ll = 0\n",
    "    \n",
    "    rp = -1\n",
    "    rl = 0\n",
    "\n",
    "    l_start_range = [1, 3, 4, 5, 2, 3, 4, 1, 2, 3]\n",
    "    r_start_range = [1, 5, 4, 3, 4, 3, 2, 3, 2, 1]\n",
    "    zero_range = [0, 4, 3, 4, 3, 2, 3, 2, 1, 2]\n",
    "    for number in numbers:\n",
    "        if number == 1 or number == 4 or number == 7:\n",
    "            lp = number\n",
    "            answer += \"L\"\n",
    "        elif number == 3 or number == 6 or number == 9:\n",
    "            rp = number\n",
    "            answer += \"R\"\n",
    "        else:         \n",
    "            if number == 0:\n",
    "                ll = zero_range[lp]\n",
    "                rl = zero_range[rp]\n",
    "            else:\n",
    "                if lp == 0:\n",
    "                    ll = zero_range[number]\n",
    "                else:\n",
    "                    ll = (abs(lp - number) // 3) + (abs(lp - number) % 3)    \n",
    "                    \n",
    "                if rp == 0:\n",
    "                    rl = zero_range[number]\n",
    "                else:\n",
    "                    rl = (abs(rp - number) // 3) + (abs(rp - number) % 3)\n",
    "                \n",
    "            if lp == -1:\n",
    "                ll = l_start_range[number]\n",
    "            if rp == -1:\n",
    "                rl = r_start_range[number]\n",
    "                \n",
    "            if ll < rl or (ll == rl and hand == \"left\"):\n",
    "                lp = number\n",
    "                answer += \"L\"\n",
    "            elif ll > rl or (ll == rl and hand == \"right\"):\n",
    "                rp = number\n",
    "                answer += \"R\"\n",
    "            else:\n",
    "                print(\"error\")\n",
    "\n",
    "    return answer"
   ]
  }
 ],
 "metadata": {
  "kernelspec": {
   "display_name": "Python 3 (ipykernel)",
   "language": "python",
   "name": "python3"
  },
  "language_info": {
   "codemirror_mode": {
    "name": "ipython",
    "version": 3
   },
   "file_extension": ".py",
   "mimetype": "text/x-python",
   "name": "python",
   "nbconvert_exporter": "python",
   "pygments_lexer": "ipython3",
   "version": "3.7.13"
  }
 },
 "nbformat": 4,
 "nbformat_minor": 5
}
