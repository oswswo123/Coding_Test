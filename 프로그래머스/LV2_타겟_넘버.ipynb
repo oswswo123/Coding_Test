{
 "cells": [
  {
   "cell_type": "code",
   "execution_count": null,
   "id": "f9b9eac5-64fa-4410-9d14-35aa4f01baa3",
   "metadata": {},
   "outputs": [],
   "source": [
    "def solution(numbers, target):\n",
    "    temp_list = [0, 0]\n",
    "    num_of_leaf = 2 ** len(numbers)\n",
    "    for idx, number in enumerate(numbers, 1):\n",
    "        repeat = 2 ** idx\n",
    "        for iteration in range(repeat):\n",
    "            if iteration % 2 == 0:\n",
    "                temp_list.append(-1 * number)\n",
    "            else:\n",
    "                temp_list.append(number)\n",
    "    \n",
    "    for idx in range(1, len(temp_list)):\n",
    "        temp_list[idx] += temp_list[idx//2]\n",
    "\n",
    "    check_list = list()\n",
    "    for element in temp_list[-1*num_of_leaf-1:-1]:\n",
    "        check_list.append(element)                \n",
    "    \n",
    "    answer = check_list.count(target)\n",
    "    return answer"
   ]
  }
 ],
 "metadata": {
  "kernelspec": {
   "display_name": "Python 3 (ipykernel)",
   "language": "python",
   "name": "python3"
  },
  "language_info": {
   "codemirror_mode": {
    "name": "ipython",
    "version": 3
   },
   "file_extension": ".py",
   "mimetype": "text/x-python",
   "name": "python",
   "nbconvert_exporter": "python",
   "pygments_lexer": "ipython3",
   "version": "3.7.13"
  }
 },
 "nbformat": 4,
 "nbformat_minor": 5
}
