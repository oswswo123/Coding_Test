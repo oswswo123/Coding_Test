{
 "cells": [
  {
   "cell_type": "code",
   "execution_count": 8,
   "id": "ef871a46-cecd-4c0f-a7f2-ba716a42e53d",
   "metadata": {},
   "outputs": [],
   "source": [
    "import sys\n",
    "sys.setrecursionlimit(1000000)\n",
    "\n",
    "remain_vertex = list()\n",
    "\n",
    "def dfs(graphs, vertex, visited):\n",
    "    visited[vertex] = True\n",
    "    print(vertex)\n",
    "    print(remain_vertex)\n",
    "    remain_vertex.remove(vertex)\n",
    "    \n",
    "    for idx, connected in enumerate(graphs[vertex]):\n",
    "        if connected == 1 and visited[idx] == False:\n",
    "            dfs(graphs, idx, visited)\n",
    "            \n",
    "def solution(n, computers):\n",
    "    answer = 0\n",
    "    global remain_vertex\n",
    "    for repeat in range(len(computers)):\n",
    "        computers[repeat][repeat] = 0\n",
    "    \n",
    "    visited = [False for _ in computers]\n",
    "    remain_vertex = [idx for idx in range(len(visited))]\n",
    "    \n",
    "    while bool(remain_vertex):\n",
    "        dfs(computers, remain_vertex[0], visited)\n",
    "        answer += 1\n",
    "    \n",
    "    return answer"
   ]
  },
  {
   "cell_type": "code",
   "execution_count": null,
   "id": "e251f944-5385-4327-ad8d-f673298af09d",
   "metadata": {},
   "outputs": [],
   "source": []
  }
 ],
 "metadata": {
  "kernelspec": {
   "display_name": "Python 3 (ipykernel)",
   "language": "python",
   "name": "python3"
  },
  "language_info": {
   "codemirror_mode": {
    "name": "ipython",
    "version": 3
   },
   "file_extension": ".py",
   "mimetype": "text/x-python",
   "name": "python",
   "nbconvert_exporter": "python",
   "pygments_lexer": "ipython3",
   "version": "3.7.13"
  }
 },
 "nbformat": 4,
 "nbformat_minor": 5
}
