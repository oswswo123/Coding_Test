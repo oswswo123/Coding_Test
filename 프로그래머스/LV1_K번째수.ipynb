{
 "cells": [
  {
   "cell_type": "code",
   "execution_count": null,
   "id": "3682ed93-b40a-4661-8f1b-db762c297d2a",
   "metadata": {},
   "outputs": [],
   "source": [
    "def solution(array, commands):\n",
    "    answer = list()\n",
    "    for command in commands:\n",
    "        i, j, k = command\n",
    "        \n",
    "        temp = array[i-1:j]\n",
    "        temp.sort()\n",
    "        \n",
    "        answer.append(temp[k-1])\n",
    "\n",
    "    return answer"
   ]
  }
 ],
 "metadata": {
  "kernelspec": {
   "display_name": "Python 3 (ipykernel)",
   "language": "python",
   "name": "python3"
  },
  "language_info": {
   "codemirror_mode": {
    "name": "ipython",
    "version": 3
   },
   "file_extension": ".py",
   "mimetype": "text/x-python",
   "name": "python",
   "nbconvert_exporter": "python",
   "pygments_lexer": "ipython3",
   "version": "3.7.13"
  }
 },
 "nbformat": 4,
 "nbformat_minor": 5
}
