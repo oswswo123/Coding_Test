{
 "cells": [
  {
   "cell_type": "code",
   "execution_count": null,
   "id": "dc4e57c0-3934-4fbb-8d89-2dadd2a29eca",
   "metadata": {},
   "outputs": [],
   "source": [
    "def solution(money):\n",
    "    dp_first_steal = [0 for _ in money]\n",
    "    dp_first_not_steal = [0 for _ in money]\n",
    "    \n",
    "    dp_first_steal[0] = money[0]\n",
    "\n",
    "    # 두집건너 한집을 터는 경우를 고려해야함!\n",
    "    # 첫번째 집을 텀 : 마지막집과 2번째 집은 털지 못함\n",
    "    for idx in range(2, len(money)-1):\n",
    "        dp_first_steal[idx] = max(dp_first_steal[idx-1],\n",
    "                                  money[idx] + dp_first_steal[idx-2],\n",
    "                                  money[idx] + dp_first_steal[idx-3])\n",
    "        \n",
    "    # 첫번째 집을 털지 않음 : 1번째 집은 털지 못함 (2번째 집부터 알고리즘 시작)\n",
    "    for idx in range(1, len(money)):\n",
    "        dp_first_not_steal[idx] = max(dp_first_not_steal[idx-1],\n",
    "                                      money[idx] + dp_first_not_steal[idx-2],\n",
    "                                      money[idx] + dp_first_not_steal[idx-3])\n",
    "    \n",
    "    answer = max(dp_first_steal[-2], dp_first_not_steal[-1])\n",
    "    return answer"
   ]
  }
 ],
 "metadata": {
  "kernelspec": {
   "display_name": "Python 3 (ipykernel)",
   "language": "python",
   "name": "python3"
  },
  "language_info": {
   "codemirror_mode": {
    "name": "ipython",
    "version": 3
   },
   "file_extension": ".py",
   "mimetype": "text/x-python",
   "name": "python",
   "nbconvert_exporter": "python",
   "pygments_lexer": "ipython3",
   "version": "3.7.13"
  }
 },
 "nbformat": 4,
 "nbformat_minor": 5
}
