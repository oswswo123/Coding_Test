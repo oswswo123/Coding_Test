{
 "cells": [
  {
   "cell_type": "code",
   "execution_count": null,
   "id": "f1c7db1f-ca74-4bef-bee1-85b7cf188aec",
   "metadata": {},
   "outputs": [],
   "source": [
    "import re\n",
    "\n",
    "def solution(str1, str2):\n",
    "    str1 = str1.lower()\n",
    "    str2 = str2.lower()\n",
    "\n",
    "    str1_list = [str1[idx] + str1[idx+1] for idx in range(len(str1)-1)]\n",
    "    str1_list = list(filter(lambda x : re.match(\"[a-z]{2,}\", x) != None, str1_list))\n",
    "    \n",
    "    str2_list = [str2[idx] + str2[idx+1] for idx in range(len(str2)-1)]\n",
    "    str2_list = list(filter(lambda x : re.match(\"[a-z]{2,}\", x) != None, str2_list))\n",
    "    \n",
    "    str1_dict = dict()\n",
    "    str2_dict = dict()\n",
    "    \n",
    "    for token in str1_list:\n",
    "        if token not in str1_dict:\n",
    "            str1_dict[token] = 1\n",
    "        else:\n",
    "            str1_dict[token] += 1\n",
    "            \n",
    "    for token in str2_list:\n",
    "        if token not in str2_dict:\n",
    "            str2_dict[token] = 1\n",
    "        else:\n",
    "            str2_dict[token] += 1\n",
    "    \n",
    "    str_union = dict()\n",
    "    for token in str1_dict:\n",
    "        if token not in str_union:\n",
    "            str_union[token] = str1_dict[token]\n",
    "        else:\n",
    "            str_union[token] = str_union[token] if str_union[token] > str1_dict[token] else str1_dict[token]\n",
    "    \n",
    "    for token in str2_dict:\n",
    "        if token not in str_union:\n",
    "            str_union[token] = str2_dict[token]\n",
    "        else:\n",
    "            str_union[token] = str_union[token] if str_union[token] > str2_dict[token] else str2_dict[token]\n",
    "    \n",
    "    str_intersection = dict()    \n",
    "    for token in str_union:\n",
    "        if (token in str1_dict) and (token in str2_dict):\n",
    "            str_intersection[token] = str1_dict[token] if str1_dict[token] < str2_dict[token] else str2_dict[token]\n",
    "    \n",
    "    if sum(str_union.values()) == 0:\n",
    "        return 65536\n",
    "    \n",
    "    jaccard_similarity = sum(str_intersection.values()) / sum(str_union.values())\n",
    "    \n",
    "    answer = int(jaccard_similarity * 65536)\n",
    "    return answer"
   ]
  }
 ],
 "metadata": {
  "kernelspec": {
   "display_name": "Python 3 (ipykernel)",
   "language": "python",
   "name": "python3"
  },
  "language_info": {
   "codemirror_mode": {
    "name": "ipython",
    "version": 3
   },
   "file_extension": ".py",
   "mimetype": "text/x-python",
   "name": "python",
   "nbconvert_exporter": "python",
   "pygments_lexer": "ipython3",
   "version": "3.7.13"
  }
 },
 "nbformat": 4,
 "nbformat_minor": 5
}
