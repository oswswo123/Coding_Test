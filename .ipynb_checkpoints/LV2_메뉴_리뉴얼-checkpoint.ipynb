{
 "cells": [
  {
   "cell_type": "code",
   "execution_count": null,
   "id": "62326c3f-264e-4e91-91c5-713ecb632f33",
   "metadata": {},
   "outputs": [],
   "source": [
    "import copy\n",
    "\n",
    "combination_set = set()\n",
    "\n",
    "def create_combination(used_order, unused_order, selected_idx, num_choice):\n",
    "    if num_choice == 0:\n",
    "        global combination_set\n",
    "        used_order = sorted(used_order)\n",
    "        combination_set.add(\"\".join(map(str, used_order)))\n",
    "        return    \n",
    "\n",
    "    for idx in range(selected_idx, len(unused_order)):\n",
    "        new_used_order = copy.deepcopy(used_order)\n",
    "        new_unused_order = copy.deepcopy(unused_order)\n",
    "        \n",
    "        new_used_order.append(unused_order[idx])\n",
    "        new_unused_order.remove(unused_order[idx])\n",
    "        \n",
    "        create_combination(new_used_order, new_unused_order, idx, num_choice - 1)\n",
    "    \n",
    "\n",
    "def solution(orders, course):\n",
    "    order_combination_dict = {item:dict() for item in course}\n",
    "    \n",
    "    global combination_set\n",
    "    \n",
    "    for order_dict_key in order_combination_dict:\n",
    "        for order in orders:\n",
    "            if len(order) >= order_dict_key:\n",
    "                create_combination(list(), list(order), 0, order_dict_key)\n",
    "                \n",
    "                for element in combination_set:\n",
    "                    if element not in order_combination_dict[order_dict_key]:\n",
    "                        order_combination_dict[order_dict_key][element] = 1\n",
    "                    else:\n",
    "                        order_combination_dict[order_dict_key][element] += 1\n",
    "                combination_set.clear()\n",
    "\n",
    "    answer = list()\n",
    "    for order_combination_key, order_combination_value in order_combination_dict.items():\n",
    "        if bool(order_combination_value.values()) == False:\n",
    "            continue\n",
    "        \n",
    "        max_order_num = max(order_combination_value.values())\n",
    "        if max_order_num < 2:\n",
    "            continue\n",
    "        \n",
    "        for local_key in order_combination_value:\n",
    "            if max_order_num <= order_combination_value[local_key]:\n",
    "                answer.append(local_key)\n",
    "\n",
    "    answer = sorted(answer)\n",
    "    return answer"
   ]
  }
 ],
 "metadata": {
  "kernelspec": {
   "display_name": "Python 3 (ipykernel)",
   "language": "python",
   "name": "python3"
  },
  "language_info": {
   "codemirror_mode": {
    "name": "ipython",
    "version": 3
   },
   "file_extension": ".py",
   "mimetype": "text/x-python",
   "name": "python",
   "nbconvert_exporter": "python",
   "pygments_lexer": "ipython3",
   "version": "3.7.13"
  }
 },
 "nbformat": 4,
 "nbformat_minor": 5
}
