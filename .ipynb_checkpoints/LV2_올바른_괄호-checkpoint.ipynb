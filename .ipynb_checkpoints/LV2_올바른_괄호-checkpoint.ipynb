{
 "cells": [
  {
   "cell_type": "code",
   "execution_count": null,
   "id": "2a6b7ae7-5d08-49d2-83fb-02f13008fbe1",
   "metadata": {},
   "outputs": [],
   "source": [
    "def solution(bracket):\n",
    "    bracket_counter = 0\n",
    "    \n",
    "    for token in bracket:\n",
    "        if token == \"(\":\n",
    "            bracket_counter += 1\n",
    "        else:    # token == \")\"\n",
    "            bracket_counter -= 1\n",
    "            \n",
    "        if bracket_counter < 0:\n",
    "            return False\n",
    "    \n",
    "    if bracket_counter > 0:\n",
    "        return False\n",
    "\n",
    "    return True"
   ]
  }
 ],
 "metadata": {
  "kernelspec": {
   "display_name": "Python 3 (ipykernel)",
   "language": "python",
   "name": "python3"
  },
  "language_info": {
   "codemirror_mode": {
    "name": "ipython",
    "version": 3
   },
   "file_extension": ".py",
   "mimetype": "text/x-python",
   "name": "python",
   "nbconvert_exporter": "python",
   "pygments_lexer": "ipython3",
   "version": "3.7.13"
  }
 },
 "nbformat": 4,
 "nbformat_minor": 5
}
