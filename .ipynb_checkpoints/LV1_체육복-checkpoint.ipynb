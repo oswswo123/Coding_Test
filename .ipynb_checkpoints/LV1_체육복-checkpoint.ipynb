{
 "cells": [
  {
   "cell_type": "code",
   "execution_count": null,
   "id": "5b282e41-cb62-4765-a9fd-1f0d8a030391",
   "metadata": {},
   "outputs": [],
   "source": [
    "def solution(n, losts, reserves):\n",
    "    loss_man = n - len(losts)\n",
    "    borrowed = 0\n",
    "    losts = sorted(losts)\n",
    "    reserves = sorted(reserves)\n",
    "    \n",
    "    for lost in losts[:]:\n",
    "        if lost in reserves:\n",
    "            reserves.remove(lost)\n",
    "            losts.remove(lost)\n",
    "            borrowed += 1\n",
    "\n",
    "    for lost in losts:            \n",
    "        if lost-1 in reserves:\n",
    "            reserves.remove(lost-1)\n",
    "            borrowed += 1\n",
    "        elif lost+1 in reserves:\n",
    "            reserves.remove(lost+1)\n",
    "            borrowed += 1\n",
    "    \n",
    "    answer = loss_man + borrowed\n",
    "    \n",
    "    return answer"
   ]
  }
 ],
 "metadata": {
  "kernelspec": {
   "display_name": "Python 3 (ipykernel)",
   "language": "python",
   "name": "python3"
  },
  "language_info": {
   "codemirror_mode": {
    "name": "ipython",
    "version": 3
   },
   "file_extension": ".py",
   "mimetype": "text/x-python",
   "name": "python",
   "nbconvert_exporter": "python",
   "pygments_lexer": "ipython3",
   "version": "3.7.13"
  }
 },
 "nbformat": 4,
 "nbformat_minor": 5
}
