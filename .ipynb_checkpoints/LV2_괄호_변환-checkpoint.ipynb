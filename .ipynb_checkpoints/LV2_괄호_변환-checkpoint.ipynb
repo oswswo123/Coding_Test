{
 "cells": [
  {
   "cell_type": "code",
   "execution_count": null,
   "id": "d73f5050-45e9-494a-a937-b5b97af1b33f",
   "metadata": {},
   "outputs": [],
   "source": [
    "def make_correct_bracket(bracket):\n",
    "    if bracket == \"\":\n",
    "        return \"\"\n",
    "    \n",
    "    is_collect = True if bracket[0] == \"(\" else False    \n",
    "    bracket_counter = 0\n",
    "    first_bracket = \"\"\n",
    "    \n",
    "    for idx, bracket_char in enumerate(bracket):\n",
    "        if bracket_char == \"(\":\n",
    "            bracket_counter += 1\n",
    "            first_bracket += \"(\"\n",
    "        else:\n",
    "            bracket_counter -= 1\n",
    "            first_bracket += \")\"\n",
    "        \n",
    "        if bracket_counter == 0:\n",
    "            second_bracket_idx = idx\n",
    "            break\n",
    "    \n",
    "    second_bracket = bracket[second_bracket_idx+1:]\n",
    "    \n",
    "    temp = \"\"\n",
    "    if is_collect:\n",
    "        recursive_bracket = make_correct_bracket(second_bracket)\n",
    "        return first_bracket + recursive_bracket\n",
    "    else:\n",
    "        temp += \"(\"\n",
    "        temp += make_correct_bracket(second_bracket)\n",
    "        temp += \")\"\n",
    "        \n",
    "        first_bracket = first_bracket[1:-1]\n",
    "        first_bracket = first_bracket.replace(\"(\", \"#\")\n",
    "        first_bracket = first_bracket.replace(\")\", \"(\")\n",
    "        first_bracket = first_bracket.replace(\"#\", \")\")\n",
    "        \n",
    "        temp += first_bracket\n",
    "        return temp\n",
    "    \n",
    "\n",
    "def solution(p):  \n",
    "\n",
    "    return make_correct_bracket(p)"
   ]
  }
 ],
 "metadata": {
  "kernelspec": {
   "display_name": "Python 3 (ipykernel)",
   "language": "python",
   "name": "python3"
  },
  "language_info": {
   "codemirror_mode": {
    "name": "ipython",
    "version": 3
   },
   "file_extension": ".py",
   "mimetype": "text/x-python",
   "name": "python",
   "nbconvert_exporter": "python",
   "pygments_lexer": "ipython3",
   "version": "3.7.13"
  }
 },
 "nbformat": 4,
 "nbformat_minor": 5
}
