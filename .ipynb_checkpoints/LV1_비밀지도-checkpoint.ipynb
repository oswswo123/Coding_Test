{
 "cells": [
  {
   "cell_type": "code",
   "execution_count": null,
   "id": "13ed0bcf-be18-4453-9780-d34d556f3d94",
   "metadata": {},
   "outputs": [],
   "source": [
    "def draw_map(n, arr):\n",
    "    arr_map = list()\n",
    "    for element in arr:\n",
    "        arr_row = \"\"\n",
    "        for integer in range(n-1, -1, -1):\n",
    "            if element//(2**integer):\n",
    "                arr_row += \"#\"\n",
    "                element -= (2**integer)\n",
    "            else:\n",
    "                arr_row += \" \"\n",
    "        arr_map.append(str(arr_row))\n",
    "    \n",
    "    return arr_map\n",
    "\n",
    "def restore_map(map1, map2):\n",
    "    res_map = list()\n",
    "    for map1_row, map2_row in zip(map1, map2):\n",
    "        res_map_row = \"\"\n",
    "        for idx in range(len(map1)):\n",
    "            if map1_row[idx] == \"#\" or map2_row[idx] == \"#\":\n",
    "                res_map_row += \"#\"\n",
    "            else:\n",
    "                res_map_row += \" \"\n",
    "        res_map.append(res_map_row)\n",
    "    \n",
    "    return res_map\n",
    "\n",
    "def solution(n, arr1, arr2):\n",
    "    arr1_map = draw_map(n, arr1)\n",
    "    arr2_map = draw_map(n, arr2)\n",
    "\n",
    "    return restore_map(arr1_map, arr2_map)"
   ]
  }
 ],
 "metadata": {
  "kernelspec": {
   "display_name": "Python 3 (ipykernel)",
   "language": "python",
   "name": "python3"
  },
  "language_info": {
   "codemirror_mode": {
    "name": "ipython",
    "version": 3
   },
   "file_extension": ".py",
   "mimetype": "text/x-python",
   "name": "python",
   "nbconvert_exporter": "python",
   "pygments_lexer": "ipython3",
   "version": "3.7.13"
  }
 },
 "nbformat": 4,
 "nbformat_minor": 5
}
