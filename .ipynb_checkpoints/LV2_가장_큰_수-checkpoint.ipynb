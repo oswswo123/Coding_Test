{
 "cells": [
  {
   "cell_type": "code",
   "execution_count": null,
   "id": "d5eaa89b-f581-457e-a4e6-18a245268025",
   "metadata": {},
   "outputs": [],
   "source": [
    "def sorting_standard(x):\n",
    "    if x >= 1000:\n",
    "        temp = x/1000\n",
    "    elif x>= 100:\n",
    "        temp = x/100 + (x%10 / 1000)\n",
    "    elif x>= 10:\n",
    "        temp = x/10 + (x%10 / 1000) + (x%10 / 100)\n",
    "    else:\n",
    "        temp = x + x/1000 + x/100 + x/10 \n",
    "    temp /= 10000\n",
    "    \n",
    "    if x >= 1000:\n",
    "        return x/1000 + temp\n",
    "    elif x>= 100:\n",
    "        return x/100 + (x//100 / 1000) + temp\n",
    "    elif x>= 10:\n",
    "        return x/10 + (x//10 / 1000 + x//10 / 100) + temp\n",
    "    else:\n",
    "        return x + (x/10) + (x/100) + (x/1000) + temp\n",
    "\n",
    "    \n",
    "def solution(numbers):\n",
    "    if numbers.count(0) == len(numbers):\n",
    "        return '0'\n",
    "    \n",
    "    # 부동 소수점 숫자로 비교하면 좋아보임\n",
    "    # 1.000 2.35 3.7 9.2 5.1 등등...\n",
    "    # 근데 5는 5.0이지만 5.1보단 앞에 있어야함\n",
    "    numbers.sort(key=lambda x: sorting_standard(x), reverse=True)\n",
    "    # numbers.sort(key=lambda x: x/1000 if x >= 1000 else x/100+(x//100 / 1000) if x >= 100 else x/10+(x//10 / 1000 + x//10 / 100) if x >= 10 else x+(x/10)+(x/100)+(x/1000), reverse=True) \n",
    "    \n",
    "    answer = ''\n",
    "    answer = ''.join(list(map(str, numbers)))\n",
    "    # for item in numbers:\n",
    "    #     answer += str(item)\n",
    "    \n",
    "    return answer"
   ]
  }
 ],
 "metadata": {
  "kernelspec": {
   "display_name": "Python 3 (ipykernel)",
   "language": "python",
   "name": "python3"
  },
  "language_info": {
   "codemirror_mode": {
    "name": "ipython",
    "version": 3
   },
   "file_extension": ".py",
   "mimetype": "text/x-python",
   "name": "python",
   "nbconvert_exporter": "python",
   "pygments_lexer": "ipython3",
   "version": "3.7.13"
  }
 },
 "nbformat": 4,
 "nbformat_minor": 5
}
