{
 "cells": [
  {
   "cell_type": "code",
   "execution_count": null,
   "id": "2ef7b213-65b2-412c-aade-e9df4e8d7a4e",
   "metadata": {},
   "outputs": [],
   "source": [
    "def solution(N, stages):\n",
    "    fail_rates = {repet+1:[0, 0, 0] for repet in range(N)}\n",
    "    count_user = [stages.count(repet+1) for repet in range(N+1)]    \n",
    "    \n",
    "    for counter in range(len(count_user)-1):\n",
    "        fail_rates[counter+1][1] = count_user[counter]\n",
    "            \n",
    "        for add_idx in range(counter+1):\n",
    "            fail_rates[add_idx+1][2] += count_user[counter]\n",
    "\n",
    "    for key in fail_rates:\n",
    "        fail_rates[key][2] += count_user[N]\n",
    "    \n",
    "    for fail_key in fail_rates:\n",
    "        if fail_rates[fail_key][2] == 0:\n",
    "            continue\n",
    "        else:\n",
    "            fail_rates[fail_key][0] = fail_rates[fail_key][1] / fail_rates[fail_key][2]\n",
    "    \n",
    "    sorted_fail = sorted(list(fail_rates.items()), key=lambda x: x[1][0], reverse=True)\n",
    "    answer = [stage for stage, _ in sorted_fail]\n",
    "    \n",
    "    return answer"
   ]
  }
 ],
 "metadata": {
  "kernelspec": {
   "display_name": "Python 3 (ipykernel)",
   "language": "python",
   "name": "python3"
  },
  "language_info": {
   "codemirror_mode": {
    "name": "ipython",
    "version": 3
   },
   "file_extension": ".py",
   "mimetype": "text/x-python",
   "name": "python",
   "nbconvert_exporter": "python",
   "pygments_lexer": "ipython3",
   "version": "3.7.13"
  }
 },
 "nbformat": 4,
 "nbformat_minor": 5
}
