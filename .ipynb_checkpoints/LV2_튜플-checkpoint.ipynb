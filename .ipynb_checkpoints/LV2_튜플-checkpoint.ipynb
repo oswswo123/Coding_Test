{
 "cells": [
  {
   "cell_type": "code",
   "execution_count": null,
   "id": "c5e1dae0-4028-4353-9d80-f3a051738e49",
   "metadata": {},
   "outputs": [],
   "source": [
    "import re\n",
    "\n",
    "def solution(input_tuple):\n",
    "    input_tuple = re.sub(\"[\\{]\", \"\", input_tuple)\n",
    "    input_tuple = re.sub(\"[\\}]\", \" \", input_tuple)\n",
    "    list_tuple = input_tuple.split()\n",
    "    list_tuple = list(map(lambda x : x[1:] if x[0] == \",\" else x, list_tuple))\n",
    "    list_tuple = list(map(lambda x : x.split(\",\"), list_tuple))\n",
    "    \n",
    "    for idx, element_tuple in enumerate(list_tuple):\n",
    "        int_tuple = list(map(lambda x : int(x), element_tuple))\n",
    "        list_tuple[idx] = int_tuple\n",
    "    \n",
    "    max_length_tuple = max(list_tuple, key=len)\n",
    "    result = [None for _ in max_length_tuple]\n",
    "    \n",
    "    for element in max_length_tuple:\n",
    "        count_element = 0\n",
    "        for element_tuple in list_tuple:\n",
    "            if element in element_tuple:\n",
    "                count_element += 1\n",
    "        result[len(result) - count_element] = element\n",
    "        \n",
    "    return result"
   ]
  }
 ],
 "metadata": {
  "kernelspec": {
   "display_name": "Python 3 (ipykernel)",
   "language": "python",
   "name": "python3"
  },
  "language_info": {
   "codemirror_mode": {
    "name": "ipython",
    "version": 3
   },
   "file_extension": ".py",
   "mimetype": "text/x-python",
   "name": "python",
   "nbconvert_exporter": "python",
   "pygments_lexer": "ipython3",
   "version": "3.7.13"
  }
 },
 "nbformat": 4,
 "nbformat_minor": 5
}
